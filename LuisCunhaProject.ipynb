{
 "cells": [
  {
   "cell_type": "markdown",
   "id": "71daed62-05c6-4ea1-ade2-93d7218007a5",
   "metadata": {},
   "source": [
    "# Data Science Tools and Ecosystems"
   ]
  },
  {
   "cell_type": "markdown",
   "id": "a7c27ff8-ab5a-4890-86a7-88909b973113",
   "metadata": {},
   "source": [
    "## In this notebook, data science tools and ecosystem are sumerized"
   ]
  },
  {
   "cell_type": "markdown",
   "id": "91a5dce1-8e93-424f-a9cf-c0e9d29bedec",
   "metadata": {},
   "source": [
    "## Objetives:\n",
    "List popular languages that Data Scientists \n",
    "List Some of the commonly used libraries used by Data Scientists\n",
    "List evaluating arithmetic expressions in Python\n"
   ]
  },
  {
   "cell_type": "markdown",
   "id": "558d2e2c-aa70-4079-879c-ad4a87ab931d",
   "metadata": {},
   "source": [
    "### Some of the popular languages that Data Scientists use are: "
   ]
  },
  {
   "cell_type": "code",
   "execution_count": null,
   "id": "7fd85f75-cb33-4d14-8e64-641cfd87b789",
   "metadata": {},
   "outputs": [],
   "source": [
    "1 phyton \n",
    "2 r studio\n",
    "3 java"
   ]
  },
  {
   "cell_type": "markdown",
   "id": "b23037dc-caf3-4990-b265-89a08d80181c",
   "metadata": {},
   "source": [
    "### Some of the commonly used libraries used by Data Scientists include:"
   ]
  },
  {
   "cell_type": "code",
   "execution_count": null,
   "id": "9fc0a1cc-6769-4f06-938f-9a9f89362b8b",
   "metadata": {},
   "outputs": [],
   "source": [
    "1 Tensor flow\n",
    "2 Numpy\n",
    "3 Panda"
   ]
  },
  {
   "cell_type": "markdown",
   "id": "60743173-1016-48e0-bfb1-62c550951d18",
   "metadata": {},
   "source": [
    "|Data Science Tools|\n",
    "|VS Code|\n",
    "|Github|\n",
    "|Gitlab|\n"
   ]
  },
  {
   "cell_type": "markdown",
   "id": "b27dfef5-0887-49e9-a8d2-33c1d40413bd",
   "metadata": {},
   "source": [
    "## Bellow are a few examples of evaluating arithmetic expressions in Python"
   ]
  },
  {
   "cell_type": "code",
   "execution_count": 1,
   "id": "b475df73-638a-4471-bd0f-c04397e99146",
   "metadata": {
    "tags": []
   },
   "outputs": [
    {
     "data": {
      "text/plain": [
       "17"
      ]
     },
     "execution_count": 1,
     "metadata": {},
     "output_type": "execute_result"
    }
   ],
   "source": [
    "(3*4)+5\n",
    "# This a sample arithmetic expression to multiply then add integers"
   ]
  },
  {
   "cell_type": "code",
   "execution_count": 3,
   "id": "d78d30bd-eac3-4e90-9f5f-2c63ec0a3b2f",
   "metadata": {
    "tags": []
   },
   "outputs": [
    {
     "data": {
      "text/plain": [
       "3.3333333333333335"
      ]
     },
     "execution_count": 3,
     "metadata": {},
     "output_type": "execute_result"
    }
   ],
   "source": [
    "200/60\n",
    "# This will convert 200 minutes to hours by diving by 60"
   ]
  },
  {
   "cell_type": "markdown",
   "id": "cbfa34bf-e080-492e-a7ad-279d7ce87a5d",
   "metadata": {},
   "source": [
    "## Author\n",
    "Ana Bernardo"
   ]
  }
 ],
 "metadata": {
  "kernelspec": {
   "display_name": "Python",
   "language": "python",
   "name": "conda-env-python-py"
  },
  "language_info": {
   "codemirror_mode": {
    "name": "ipython",
    "version": 3
   },
   "file_extension": ".py",
   "mimetype": "text/x-python",
   "name": "python",
   "nbconvert_exporter": "python",
   "pygments_lexer": "ipython3",
   "version": "3.7.12"
  }
 },
 "nbformat": 4,
 "nbformat_minor": 5
}
